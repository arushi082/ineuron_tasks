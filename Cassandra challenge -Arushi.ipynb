{
 "cells": [
  {
   "cell_type": "code",
   "execution_count": 1,
   "metadata": {},
   "outputs": [
    {
     "name": "stdout",
     "output_type": "stream",
     "text": [
      "3.25.0\n"
     ]
    }
   ],
   "source": [
    "##importing cassandra\n",
    "import cassandra\n",
    "print(cassandra.__version__)"
   ]
  },
  {
   "cell_type": "code",
   "execution_count": 2,
   "metadata": {},
   "outputs": [
    {
     "name": "stdout",
     "output_type": "stream",
     "text": [
      "4.0.0.6811\n"
     ]
    }
   ],
   "source": [
    "##checking connection\n",
    "from cassandra.cluster import Cluster\n",
    "from cassandra.auth import PlainTextAuthProvider\n",
    "\n",
    "cloud_config= {\n",
    "        'secure_connect_bundle': 'E:\\secure-connect-arushi.zip'\n",
    "}\n",
    "auth_provider = PlainTextAuthProvider('ZyrfShaKYbwMMlkhaNlSZckT', '8s4WikfImamTF+WbpjZa5X3fuNL_LZFItXI931Z_n9M4_HF9Yk8a+G5rJogWOUL0ljN6vWFDGctRqnJm7IBg,f,PuoStDwUurdOqpGPvsttrZD,puj_sTgHz8H9egchE')\n",
    "cluster = Cluster(cloud=cloud_config, auth_provider=auth_provider)\n",
    "session = cluster.connect()\n",
    "\n",
    "row = session.execute(\"select release_version from system.local\").one()\n",
    "if row:\n",
    "    print(row[0])\n",
    "else:\n",
    "    print(\"An error occurred.\")"
   ]
  },
  {
   "cell_type": "code",
   "execution_count": 4,
   "metadata": {},
   "outputs": [
    {
     "name": "stdout",
     "output_type": "stream",
     "text": [
      "Changed keypsace to ineuron\n"
     ]
    }
   ],
   "source": [
    "##using keyspace called ineuron\n",
    "try:\n",
    "    query = \"USE ineuron\"\n",
    "    session.execute(query)\n",
    "    print('Changed keypsace to ineuron')\n",
    "except Exception as e:\n",
    "    print('excetion occured ',e)"
   ]
  },
  {
   "cell_type": "code",
   "execution_count": 8,
   "metadata": {},
   "outputs": [
    {
     "name": "stdout",
     "output_type": "stream",
     "text": [
      "Table Created\n"
     ]
    }
   ],
   "source": [
    "##creating table employee-emp\n",
    "from cassandra.cluster import Cluster\n",
    "from cassandra.auth import PlainTextAuthProvider\n",
    "\n",
    "cloud_config= {\n",
    "        'secure_connect_bundle': 'E:\\secure-connect-arushi.zip'\n",
    "}\n",
    "auth_provider = PlainTextAuthProvider('ZyrfShaKYbwMMlkhaNlSZckT', '8s4WikfImamTF+WbpjZa5X3fuNL_LZFItXI931Z_n9M4_HF9Yk8a+G5rJogWOUL0ljN6vWFDGctRqnJm7IBg,f,PuoStDwUurdOqpGPvsttrZD,puj_sTgHz8H9egchE')\n",
    "cluster = Cluster(cloud=cloud_config, auth_provider=auth_provider)\n",
    "session = cluster.connect(\"ineuron\")\n",
    "\n",
    "row = session.execute(\"CREATE TABLE emp( emp_id int PRIMARY KEY, emp_name text, emp_city text, emp_sal varint,emp_phone varint);\").one()\n",
    "print(\"Table Created\")"
   ]
  },
  {
   "cell_type": "code",
   "execution_count": 10,
   "metadata": {},
   "outputs": [
    {
     "name": "stdout",
     "output_type": "stream",
     "text": [
      "Table altered.\n"
     ]
    }
   ],
   "source": [
    "##Adding column email to table\n",
    "row = session.execute(\" ALTER TABLE emp ADD emp_email text;\").one()\n",
    "print('Table altered.')"
   ]
  },
  {
   "cell_type": "code",
   "execution_count": 12,
   "metadata": {},
   "outputs": [
    {
     "name": "stdout",
     "output_type": "stream",
     "text": [
      "Insert completed\n"
     ]
    }
   ],
   "source": [
    "##inserting values in table using batch mode\n",
    "from cassandra.query import BatchStatement\n",
    "\n",
    "qr1= \"insert into ineuron. emp(emp_id,emp_city,emp_email,emp_name,emp_phone,emp_sal) values(%s,%s,%s,%s,%s,%s)\"\n",
    "batch = BatchStatement()\n",
    "batch.add(qr1,[1,'Gurgaon','sonia@gmail.com','Sonia',981677699,80000])\n",
    "batch.add(qr1,[2,'Delhi','Arushi@gmail.com','Arushi',9276809799,180000])\n",
    "batch.add(qr1,[3,'Noida','abc@gmail.com','Lakshay',95689199,140000])\n",
    "batch.add(qr1,[4,'Gurgaon','ok@gmail.com','Dikshita',9231354799,150000])\n",
    "batch.add(qr1,[5,'Banglore','defgmail.com','Simi',98118099799,80000])\n",
    "batch.add(qr1,[6,'goa','fedgmail.com','Sunidhi',981189899799,80000])\n",
    "batch.add(qr1,[7,'Banglore','okgmail.com','Simii',98118099799,80000])\n",
    "batch.add(qr1,[8,'Banglore','sidgmail.com','Sid',98118099799,90000])\n",
    "batch.add(qr1,[9,'Punjab','sanagmail.com','Sana',981157899799,100000])\n",
    "batch.add(qr1,[10,'Mumbai','sidnaazgmail.com','Shenaaz',981678799,120000])\n",
    "session.execute(batch)\n",
    "print('Insert completed')"
   ]
  },
  {
   "cell_type": "code",
   "execution_count": 13,
   "metadata": {},
   "outputs": [
    {
     "name": "stdout",
     "output_type": "stream",
     "text": [
      "Row(emp_id=5, emp_city='Banglore', emp_email='defgmail.com', emp_name='Simi', emp_phone=98118099799, emp_sal=80000)\n",
      "Row(emp_id=10, emp_city='Mumbai', emp_email='sidnaazgmail.com', emp_name='Shenaaz', emp_phone=981678799, emp_sal=120000)\n",
      "Row(emp_id=1, emp_city='Gurgaon', emp_email='sonia@gmail.com', emp_name='Sonia', emp_phone=981677699, emp_sal=80000)\n",
      "Row(emp_id=8, emp_city='Banglore', emp_email='sidgmail.com', emp_name='Sid', emp_phone=98118099799, emp_sal=90000)\n",
      "Row(emp_id=2, emp_city='Delhi', emp_email='Arushi@gmail.com', emp_name='Arushi', emp_phone=9276809799, emp_sal=180000)\n",
      "Row(emp_id=4, emp_city='Gurgaon', emp_email='ok@gmail.com', emp_name='Dikshita', emp_phone=9231354799, emp_sal=150000)\n",
      "Row(emp_id=7, emp_city='Banglore', emp_email='okgmail.com', emp_name='Simii', emp_phone=98118099799, emp_sal=80000)\n",
      "Row(emp_id=6, emp_city='goa', emp_email='fedgmail.com', emp_name='Sunidhi', emp_phone=981189899799, emp_sal=80000)\n",
      "Row(emp_id=9, emp_city='Punjab', emp_email='sanagmail.com', emp_name='Sana', emp_phone=981157899799, emp_sal=100000)\n",
      "Row(emp_id=3, emp_city='Noida', emp_email='abc@gmail.com', emp_name='Lakshay', emp_phone=95689199, emp_sal=140000)\n"
     ]
    }
   ],
   "source": [
    "##using select statment\n",
    "row=session.execute(\"select * from emp;\")\n",
    "for i in row:\n",
    "    print(i)"
   ]
  },
  {
   "cell_type": "code",
   "execution_count": 14,
   "metadata": {},
   "outputs": [
    {
     "name": "stdout",
     "output_type": "stream",
     "text": [
      "Record deleted successfully...\n"
     ]
    }
   ],
   "source": [
    "##deleting a record\n",
    "rec= \"delete from emp where emp_id= ?;\"\n",
    "st= session.prepare(rec)\n",
    "session.execute(st,[6])\n",
    "print('Record deleted successfully...')"
   ]
  },
  {
   "cell_type": "code",
   "execution_count": 15,
   "metadata": {},
   "outputs": [
    {
     "name": "stdout",
     "output_type": "stream",
     "text": [
      "Row(emp_id=5, emp_city='Banglore', emp_email='defgmail.com', emp_name='Simi', emp_phone=98118099799, emp_sal=80000)\n",
      "Row(emp_id=10, emp_city='Mumbai', emp_email='sidnaazgmail.com', emp_name='Shenaaz', emp_phone=981678799, emp_sal=120000)\n",
      "Row(emp_id=1, emp_city='Gurgaon', emp_email='sonia@gmail.com', emp_name='Sonia', emp_phone=981677699, emp_sal=80000)\n",
      "Row(emp_id=8, emp_city='Banglore', emp_email='sidgmail.com', emp_name='Sid', emp_phone=98118099799, emp_sal=90000)\n",
      "Row(emp_id=2, emp_city='Delhi', emp_email='Arushi@gmail.com', emp_name='Arushi', emp_phone=9276809799, emp_sal=180000)\n",
      "Row(emp_id=4, emp_city='Gurgaon', emp_email='ok@gmail.com', emp_name='Dikshita', emp_phone=9231354799, emp_sal=150000)\n",
      "Row(emp_id=7, emp_city='Banglore', emp_email='okgmail.com', emp_name='Simii', emp_phone=98118099799, emp_sal=80000)\n",
      "Row(emp_id=9, emp_city='Punjab', emp_email='sanagmail.com', emp_name='Sana', emp_phone=981157899799, emp_sal=100000)\n",
      "Row(emp_id=3, emp_city='Noida', emp_email='abc@gmail.com', emp_name='Lakshay', emp_phone=95689199, emp_sal=140000)\n"
     ]
    }
   ],
   "source": [
    "##checking for record deletion\n",
    "row=session.execute(\"select * from emp;\")\n",
    "for i in row:\n",
    "    print(i)"
   ]
  },
  {
   "cell_type": "code",
   "execution_count": 16,
   "metadata": {},
   "outputs": [],
   "source": [
    "##updating and changing column name \n",
    "row=session.execute(\"update emp SET emp_sal= 80000,emp_name= 'Vanshika' where emp_id= 10 ;\")\n"
   ]
  },
  {
   "cell_type": "code",
   "execution_count": 17,
   "metadata": {},
   "outputs": [
    {
     "name": "stdout",
     "output_type": "stream",
     "text": [
      "Row(emp_id=10, emp_city='Mumbai', emp_email='sidnaazgmail.com', emp_name='Vanshika', emp_phone=981678799, emp_sal=80000)\n"
     ]
    }
   ],
   "source": [
    "row=session.execute(\"select * from emp where emp_id = 10;\")\n",
    "for i in row:\n",
    "    print(i)"
   ]
  },
  {
   "cell_type": "code",
   "execution_count": 18,
   "metadata": {},
   "outputs": [
    {
     "name": "stdout",
     "output_type": "stream",
     "text": [
      "Done\n"
     ]
    }
   ],
   "source": [
    "##adding one more column department and data type used is list\n",
    "row = session.execute(\"alter table emp add emp_dept list<text>\").one()\n",
    "print(\"Done\")"
   ]
  },
  {
   "cell_type": "code",
   "execution_count": 19,
   "metadata": {},
   "outputs": [
    {
     "name": "stdout",
     "output_type": "stream",
     "text": [
      "Inserted\n"
     ]
    }
   ],
   "source": [
    "row = session.execute(\"insert into  emp(emp_id,emp_city,emp_email,emp_name,emp_phone,emp_sal,emp_dept) values(11,'gurgaon','okay@gmail.com','Khushboo',7838144141,120000,['Data Science','MAchine Learning']);\").one()\n",
    "print(\"Inserted\")"
   ]
  },
  {
   "cell_type": "code",
   "execution_count": 20,
   "metadata": {},
   "outputs": [
    {
     "name": "stdout",
     "output_type": "stream",
     "text": [
      "Row(count=10)\n"
     ]
    }
   ],
   "source": [
    "##counting number of rows\n",
    "row = session.execute(\"SELECT COUNT(*) FROM emp;\").one()\n",
    "print(row)"
   ]
  },
  {
   "cell_type": "code",
   "execution_count": 23,
   "metadata": {},
   "outputs": [
    {
     "name": "stdout",
     "output_type": "stream",
     "text": [
      "Row(emp_id=11, emp_name='Khushboo', emp_sal=120000, emp_dept=['Data Science', 'MAchine Learning'])\n"
     ]
    }
   ],
   "source": [
    "##using where clause\n",
    "row = session.execute(\" SELECT emp_id, emp_name, emp_sal,emp_dept FROM emp where emp_id=11;\").one()\n",
    "print(row)"
   ]
  },
  {
   "cell_type": "code",
   "execution_count": 25,
   "metadata": {},
   "outputs": [
    {
     "name": "stdout",
     "output_type": "stream",
     "text": [
      "Row(system_sum_emp_sal=1100000)\n"
     ]
    }
   ],
   "source": [
    "##aggregate functions sum\n",
    "row = session.execute(\"SELECT SUM(emp_sal) FROM emp;\").one()\n",
    "print(row)"
   ]
  },
  {
   "cell_type": "code",
   "execution_count": 26,
   "metadata": {},
   "outputs": [
    {
     "name": "stdout",
     "output_type": "stream",
     "text": [
      "Row(system_max_emp_sal=180000)\n"
     ]
    }
   ],
   "source": [
    "##aggregate functions maximum\n",
    "row = session.execute(\"SELECT MAX(emp_sal) FROM emp;\").one()\n",
    "print(row)"
   ]
  },
  {
   "cell_type": "code",
   "execution_count": 27,
   "metadata": {},
   "outputs": [
    {
     "name": "stdout",
     "output_type": "stream",
     "text": [
      "Row(system_min_emp_sal=80000)\n"
     ]
    }
   ],
   "source": [
    "##aggregate functions minimum\n",
    "row = session.execute(\"SELECT MIN(emp_sal) FROM emp;\").one()\n",
    "print(row)"
   ]
  },
  {
   "cell_type": "code",
   "execution_count": 28,
   "metadata": {},
   "outputs": [
    {
     "name": "stdout",
     "output_type": "stream",
     "text": [
      "Row(emp_id=11, emp_city='gurgaon', emp_dept=['Data Science', 'MAchine Learning'], emp_email='okay@gmail.com', emp_name='Khushboo', emp_phone=7838144141, emp_sal=120000)\n",
      "Row(emp_id=8, emp_city='Banglore', emp_dept=None, emp_email='sidgmail.com', emp_name='Sid', emp_phone=98118099799, emp_sal=90000)\n",
      "Row(emp_id=2, emp_city='Delhi', emp_dept=None, emp_email='Arushi@gmail.com', emp_name='Arushi', emp_phone=9276809799, emp_sal=180000)\n",
      "Row(emp_id=4, emp_city='Gurgaon', emp_dept=None, emp_email='ok@gmail.com', emp_name='Dikshita', emp_phone=9231354799, emp_sal=150000)\n",
      "Row(emp_id=9, emp_city='Punjab', emp_dept=None, emp_email='sanagmail.com', emp_name='Sana', emp_phone=981157899799, emp_sal=100000)\n",
      "Row(emp_id=3, emp_city='Noida', emp_dept=None, emp_email='abc@gmail.com', emp_name='Lakshay', emp_phone=95689199, emp_sal=140000)\n"
     ]
    }
   ],
   "source": [
    "##where clause using allow filtering\n",
    "row= session.execute(\"select * from emp where emp_sal>80000 allow filtering\")\n",
    "for i in row:\n",
    "    print(i)"
   ]
  },
  {
   "cell_type": "code",
   "execution_count": 37,
   "metadata": {},
   "outputs": [
    {
     "ename": "InvalidRequest",
     "evalue": "Error from server: code=2200 [Invalid query] message=\"Order by is currently only supported on the clustered columns of the PRIMARY KEY, got emp_name\"",
     "output_type": "error",
     "traceback": [
      "\u001b[1;31m---------------------------------------------------------------------------\u001b[0m",
      "\u001b[1;31mInvalidRequest\u001b[0m                            Traceback (most recent call last)",
      "\u001b[1;32m<ipython-input-37-b7f5935cb0c2>\u001b[0m in \u001b[0;36m<module>\u001b[1;34m\u001b[0m\n\u001b[1;32m----> 1\u001b[1;33m \u001b[0mrows\u001b[0m\u001b[1;33m=\u001b[0m\u001b[0msession\u001b[0m\u001b[1;33m.\u001b[0m\u001b[0mexecute\u001b[0m\u001b[1;33m(\u001b[0m\u001b[1;34m'select * from emp where emp_id=11 order by emp_name desc allow filtering ;'\u001b[0m\u001b[1;33m)\u001b[0m\u001b[1;33m\u001b[0m\u001b[1;33m\u001b[0m\u001b[0m\n\u001b[0m",
      "\u001b[1;32m~\\anaconda3\\lib\\site-packages\\cassandra\\cluster.cp37-win_amd64.pyd\u001b[0m in \u001b[0;36mcassandra.cluster.Session.execute\u001b[1;34m()\u001b[0m\n",
      "\u001b[1;32m~\\anaconda3\\lib\\site-packages\\cassandra\\cluster.cp37-win_amd64.pyd\u001b[0m in \u001b[0;36mcassandra.cluster.ResponseFuture.result\u001b[1;34m()\u001b[0m\n",
      "\u001b[1;31mInvalidRequest\u001b[0m: Error from server: code=2200 [Invalid query] message=\"Order by is currently only supported on the clustered columns of the PRIMARY KEY, got emp_name\""
     ]
    }
   ],
   "source": [
    "rows=session.execute('select * from emp where emp_id=11 order by emp_name desc allow filtering ;')"
   ]
  },
  {
   "cell_type": "code",
   "execution_count": 38,
   "metadata": {},
   "outputs": [
    {
     "name": "stdout",
     "output_type": "stream",
     "text": [
      "None\n"
     ]
    }
   ],
   "source": [
    "## creating index for empname \n",
    "row = session.execute(\"Create index empname on emp(emp_name);\").one()\n",
    "print(row)"
   ]
  }
 ],
 "metadata": {
  "kernelspec": {
   "display_name": "Python 3",
   "language": "python",
   "name": "python3"
  },
  "language_info": {
   "codemirror_mode": {
    "name": "ipython",
    "version": 3
   },
   "file_extension": ".py",
   "mimetype": "text/x-python",
   "name": "python",
   "nbconvert_exporter": "python",
   "pygments_lexer": "ipython3",
   "version": "3.7.6"
  }
 },
 "nbformat": 4,
 "nbformat_minor": 4
}
